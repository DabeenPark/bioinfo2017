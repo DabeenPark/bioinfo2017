{
 "cells": [
  {
   "cell_type": "code",
   "execution_count": 1,
   "metadata": {
    "collapsed": false
   },
   "outputs": [
    {
     "name": "stdout",
     "output_type": "stream",
     "text": [
      "taatacgactcactatagggagaccacaac\n",
      "cgaagtaatacgactcactattagggaaga\n"
     ]
    }
   ],
   "source": [
    "seq_list = dict()\n",
    "f_fa = open('T7_promoter.iGEM.fa','r')\n",
    "for line in f_fa:\n",
    "    if line.startswith('>'):\n",
    "        seq_h = line.strip()\n",
    "        seq_list[seq_h] = ''\n",
    "    else:\n",
    "        seq_list[seq_h] = line.strip()\n",
    "f_fa.close()\n",
    "\n",
    "print( seq_list['>BBa_Z0251 T7 strong promoter'] )\n",
    "print( seq_list['>BBa_Z0253 T7 weak binding promoter'] )"
   ]
  },
  {
   "cell_type": "code",
   "execution_count": 2,
   "metadata": {
    "collapsed": false
   },
   "outputs": [
    {
     "name": "stdout",
     "output_type": "stream",
     "text": [
      "taatacgactcactatagggagaccacaac\n",
      "cgaagtaatacgactcactattagggaaga\n"
     ]
    }
   ],
   "source": [
    "seq_list = dict()\n",
    "f_fa = open('T7_promoter.iGEM.fa','r')\n",
    "for line in f_fa:\n",
    "    if line.startswith('>'):\n",
    "        seq_h = line.strip().lstrip('>').split()[0]\n",
    "        seq_list[seq_h] = ''\n",
    "    else:\n",
    "        seq_list[seq_h] = line.strip()\n",
    "f_fa.close()\n",
    "\n",
    "print( seq_list['BBa_Z0251'] )\n",
    "print( seq_list['BBa_Z0253'] )"
   ]
  },
  {
   "cell_type": "code",
   "execution_count": null,
   "metadata": {
    "collapsed": true
   },
   "outputs": [],
   "source": []
  }
 ],
 "metadata": {
  "kernelspec": {
   "display_name": "Python 3",
   "language": "python",
   "name": "python3"
  },
  "language_info": {
   "codemirror_mode": {
    "name": "ipython",
    "version": 3
   },
   "file_extension": ".py",
   "mimetype": "text/x-python",
   "name": "python",
   "nbconvert_exporter": "python",
   "pygments_lexer": "ipython3",
   "version": "3.6.0"
  }
 },
 "nbformat": 4,
 "nbformat_minor": 2
}
