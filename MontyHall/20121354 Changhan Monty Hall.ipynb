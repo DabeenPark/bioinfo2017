{
 "cells": [
  {
   "cell_type": "code",
   "execution_count": 1,
   "metadata": {
    "collapsed": false
   },
   "outputs": [
    {
     "name": "stdout",
     "output_type": "stream",
     "text": [
      "C\n",
      "B\n",
      "B\n",
      "C\n",
      "C\n",
      "A\n",
      "B\n",
      "C\n",
      "B\n",
      "B\n"
     ]
    }
   ],
   "source": [
    "import random\n",
    "door_list = ['A','B','C']\n",
    "for i in range(0,10):\n",
    "    print(random.choice(door_list))"
   ]
  },
  {
   "cell_type": "code",
   "execution_count": 2,
   "metadata": {
    "collapsed": false
   },
   "outputs": [
    {
     "name": "stdout",
     "output_type": "stream",
     "text": [
      "C\n",
      "B\n",
      "C\n",
      "C\n",
      "B\n",
      "A\n",
      "C\n",
      "A\n",
      "C\n",
      "A\n"
     ]
    }
   ],
   "source": [
    "import random\n",
    "door_list = ['A','B','C']\n",
    "for i in range(0,10):\n",
    "    print(random.choice(door_list))"
   ]
  },
  {
   "cell_type": "code",
   "execution_count": 10,
   "metadata": {
    "collapsed": false
   },
   "outputs": [
    {
     "name": "stdout",
     "output_type": "stream",
     "text": [
      "0.8\n"
     ]
    }
   ],
   "source": [
    "import random\n",
    "Num_not=0\n",
    "Num_Swt=0\n",
    "door_list = ['A','B','C']\n",
    "for i in range(0,10):\n",
    "    answer = random.choice(door_list)\n",
    "    choice = random.choice(door_list)\n",
    "    if answer == choice:\n",
    "        Num_not+=1\n",
    "    else:\n",
    "        Num_Swt+=1\n",
    "print(Num_Swt/(Num_not+Num_Swt))"
   ]
  },
  {
   "cell_type": "code",
   "execution_count": null,
   "metadata": {
    "collapsed": true
   },
   "outputs": [],
   "source": []
  },
  {
   "cell_type": "code",
   "execution_count": null,
   "metadata": {
    "collapsed": true
   },
   "outputs": [],
   "source": []
  },
  {
   "cell_type": "code",
   "execution_count": 6,
   "metadata": {
    "collapsed": false
   },
   "outputs": [
    {
     "name": "stdout",
     "output_type": "stream",
     "text": [
      "0.633\n"
     ]
    }
   ],
   "source": [
    "import random\n",
    "Num_not=0\n",
    "Num_Swt=0\n",
    "door_list = ['A','B','C']\n",
    "for i in range(0,1000):\n",
    "    answer = random.choice(door_list)\n",
    "    choice = random.choice(door_list)\n",
    "    door_list\n",
    "    \n",
    "    if choice == answer:\n",
    "        Num_not+=1\n",
    "    else:\n",
    "        Num_Swt+=1\n",
    "print(Num_Swt/(Num_not+Num_Swt))"
   ]
  },
  {
   "cell_type": "code",
   "execution_count": 69,
   "metadata": {
    "collapsed": false
   },
   "outputs": [
    {
     "name": "stdout",
     "output_type": "stream",
     "text": [
      "Switching is advantageous with the probability 0.653\n"
     ]
    }
   ],
   "source": [
    "import random\n",
    "num=1000\n",
    "a=0\n",
    "for i in range(0,num):\n",
    "    door_list = ['A','B','C']\n",
    "    answer = random.choice(door_list)\n",
    "    choice = random.choice(door_list)\n",
    "    door_list.remove(answer)\n",
    "    if answer != choice:\n",
    "        door_list.remove(choice)\n",
    "    monty_open = random.choice(door_list)\n",
    "    #print(\"Monty opens\",monty_open)\n",
    "    door_list = ['A','B','C']\n",
    "    door_list.remove(monty_open)\n",
    "    door_list.remove(choice)\n",
    "    switch=door_list[0]\n",
    "    if switch == answer:\n",
    "        a+=1\n",
    "print (\"Switching is advantageous with the probability\",a/num)\n"
   ]
  },
  {
   "cell_type": "code",
   "execution_count": null,
   "metadata": {
    "collapsed": true
   },
   "outputs": [],
   "source": []
  },
  {
   "cell_type": "code",
   "execution_count": null,
   "metadata": {
    "collapsed": true
   },
   "outputs": [],
   "source": []
  },
  {
   "cell_type": "code",
   "execution_count": null,
   "metadata": {
    "collapsed": true
   },
   "outputs": [],
   "source": []
  },
  {
   "cell_type": "code",
   "execution_count": null,
   "metadata": {
    "collapsed": true
   },
   "outputs": [],
   "source": []
  }
 ],
 "metadata": {
  "kernelspec": {
   "display_name": "Python 3",
   "language": "python",
   "name": "python3"
  },
  "language_info": {
   "codemirror_mode": {
    "name": "ipython",
    "version": 3
   },
   "file_extension": ".py",
   "mimetype": "text/x-python",
   "name": "python",
   "nbconvert_exporter": "python",
   "pygments_lexer": "ipython3",
   "version": "3.6.0"
  }
 },
 "nbformat": 4,
 "nbformat_minor": 2
}
